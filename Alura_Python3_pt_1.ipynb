{
  "nbformat": 4,
  "nbformat_minor": 0,
  "metadata": {
    "colab": {
      "name": "Alura Python3 pt 1.ipynb",
      "provenance": [],
      "authorship_tag": "ABX9TyPm/ve0PyCz/F+4J28YQOr+",
      "include_colab_link": true
    },
    "kernelspec": {
      "name": "python3",
      "display_name": "Python 3"
    },
    "language_info": {
      "name": "python"
    }
  },
  "cells": [
    {
      "cell_type": "markdown",
      "metadata": {
        "id": "view-in-github",
        "colab_type": "text"
      },
      "source": [
        "<a href=\"https://colab.research.google.com/github/pabfernandes/colab-repository/blob/main/Alura_Python3_pt_1.ipynb\" target=\"_parent\"><img src=\"https://colab.research.google.com/assets/colab-badge.svg\" alt=\"Open In Colab\"/></a>"
      ]
    },
    {
      "cell_type": "code",
      "execution_count": null,
      "metadata": {
        "id": "uoY5NO5-SSFE"
      },
      "outputs": [],
      "source": [
        "# Introdução à nova versão da Linguagem "
      ]
    },
    {
      "cell_type": "code",
      "source": [
        "print(\"*********************************\")\n",
        "print(\"Bem vindo ao jogo de adivinhação!\")\n",
        "print(\"*********************************\")\n",
        "\n",
        "numero_secreto = 42\n",
        "\n",
        "total_de_tentativas = 3\n",
        "for rodada in range(1,total_de_tentativas + 1):\n",
        "  # impressão da tentativa\n",
        "  print(f\"Tentativa {rodada} de {total_de_tentativas}:\")\n",
        "  chute_str = input(\"Digite um número de 1 a 100: \")\n",
        "  print(f\"Você digitou {chute_str}.\")\n",
        "  chute = int(chute_str)\n",
        "\n",
        "  # teste de tentativa\n",
        "  if chute < 1 or chute > 100:\n",
        "    print(\"Você deve digitar um número entre 1 e 100.\")\n",
        "    continue\n",
        "  \n",
        "  acertou = chute == numero_secreto\n",
        "  maior = chute > numero_secreto\n",
        "  menor = chute < numero_secreto\n",
        "\n",
        "  if (acertou):\n",
        "    print(f\"Você acertou o número {numero_secreto}\")\n",
        "    break\n",
        "  else:\n",
        "    if(maior):\n",
        "      print(\"Você errou! O seu chute é maior do que o número secreto!\")\n",
        "    elif(menor):\n",
        "      print(\"Você errou! O seu chute foi menor do que número secreto\")\n",
        "\n",
        "print(\"Fim de jogo\")\n"
      ],
      "metadata": {
        "colab": {
          "base_uri": "https://localhost:8080/"
        },
        "id": "zCnSiTmWTrT1",
        "outputId": "dbfed1ca-d218-4471-9b88-335dd454d4c3"
      },
      "execution_count": 4,
      "outputs": [
        {
          "output_type": "stream",
          "name": "stdout",
          "text": [
            "*********************************\n",
            "Bem vindo ao jogo de adivinhação!\n",
            "*********************************\n",
            "Tentativa 1 de 3:\n",
            "Digite um número de 1 a 100: 75\n",
            "Você digitou 75.\n",
            "Você errou! O seu chute é maior do que o número secreto!\n",
            "Tentativa 2 de 3:\n",
            "Digite um número de 1 a 100: 200\n",
            "Você digitou 200.\n",
            "Você deve digitar um número entre 1 e 100.\n",
            "Tentativa 3 de 3:\n",
            "Digite um número de 1 a 100: 42\n",
            "Você digitou 42.\n",
            "Você acertou o número 42\n",
            "Fim de jogo\n"
          ]
        }
      ]
    },
    {
      "cell_type": "code",
      "source": [
        "import random\n",
        "\n",
        "print(\"*********************************\")\n",
        "print(\"Bem vindo ao jogo de adivinhação!\")\n",
        "print(\"*********************************\")\n",
        "\n",
        "numero_secreto = round(random.randrange(1,101))\n",
        "\n",
        "total_de_tentativas = 3\n",
        "for rodada in range(1,total_de_tentativas + 1):\n",
        "  # impressão da tentativa\n",
        "  print(f\"Tentativa {rodada} de {total_de_tentativas}:\")\n",
        "  chute_str = input(\"Digite um número de 1 a 100: \")\n",
        "  print(f\"Você digitou {chute_str}.\")\n",
        "  chute = int(chute_str)\n",
        "\n",
        "  # teste de tentativa\n",
        "  if chute < 1 or chute > 100:\n",
        "    print(\"Você deve digitar um número entre 1 e 100.\")\n",
        "    continue\n",
        "  \n",
        "  acertou = chute == numero_secreto\n",
        "  maior = chute > numero_secreto\n",
        "  menor = chute < numero_secreto\n",
        "  ganhou = False\n",
        "\n",
        "  if (acertou):\n",
        "    print(f\"Você acertou o número {numero_secreto}\")\n",
        "    ganhou = True\n",
        "    break\n",
        "  else:\n",
        "    if(maior):\n",
        "      print(\"Você errou! O seu chute é maior do que o número secreto!\")\n",
        "    elif(menor):\n",
        "      print(\"Você errou! O seu chute foi menor do que número secreto\")\n",
        "\n",
        "if not(ganhou):\n",
        "  print(f\"O número secreto era {numero_secreto}!\")\n",
        "\n",
        "print(\"Fim de jogo\")\n"
      ],
      "metadata": {
        "colab": {
          "base_uri": "https://localhost:8080/"
        },
        "id": "ObiEGgsWdPTx",
        "outputId": "4e8f8ba6-a1d6-4f6b-f496-7efe89f4316c"
      },
      "execution_count": 11,
      "outputs": [
        {
          "output_type": "stream",
          "name": "stdout",
          "text": [
            "*********************************\n",
            "Bem vindo ao jogo de adivinhação!\n",
            "*********************************\n",
            "Tentativa 1 de 3:\n",
            "Digite um número de 1 a 100: 50\n",
            "Você digitou 50.\n",
            "Você errou! O seu chute foi menor do que número secreto\n",
            "Tentativa 2 de 3:\n",
            "Digite um número de 1 a 100: 35\n",
            "Você digitou 35.\n",
            "Você errou! O seu chute foi menor do que número secreto\n",
            "Tentativa 3 de 3:\n",
            "Digite um número de 1 a 100: 75\n",
            "Você digitou 75.\n",
            "Você errou! O seu chute é maior do que o número secreto!\n",
            "O número secreto era 63!\n",
            "Fim de jogo\n"
          ]
        }
      ]
    }
  ]
}